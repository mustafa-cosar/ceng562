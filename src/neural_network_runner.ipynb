{
 "cells": [
  {
   "cell_type": "code",
   "execution_count": 27,
   "metadata": {},
   "outputs": [],
   "source": [
    "from tf_utilities import turn_strings_into_vectors\n",
    "import tensorflow as tf\n",
    "import pandas as pd\n",
    "import numpy as np\n",
    "\n",
    "from neural import run\n",
    "from preprocess import preprocess_accident_data"
   ]
  },
  {
   "cell_type": "code",
   "execution_count": 7,
   "metadata": {},
   "outputs": [
    {
     "name": "stderr",
     "output_type": "stream",
     "text": [
      "/home/private/anaconda3/envs/562/lib/python3.6/site-packages/IPython/core/interactiveshell.py:3020: DtypeWarning: Columns (31) have mixed types. Specify dtype option on import or set low_memory=False.\n",
      "  interactivity=interactivity, compiler=compiler, result=result)\n"
     ]
    }
   ],
   "source": [
    "accidents = pd.read_csv('../.data/accidents_2005_to_2007.csv')"
   ]
  },
  {
   "cell_type": "code",
   "execution_count": 88,
   "metadata": {},
   "outputs": [],
   "source": [
    "data = accidents[['Accident_Severity', 'Number_of_Vehicles', 'Day_of_Week', 'Speed_limit']]"
   ]
  },
  {
   "cell_type": "code",
   "execution_count": 40,
   "metadata": {},
   "outputs": [],
   "source": [
    "accident_severity_names, accident_severity_vectors = turn_strings_into_vectors(data['Accident_Severity'])"
   ]
  },
  {
   "cell_type": "code",
   "execution_count": 69,
   "metadata": {},
   "outputs": [
    {
     "data": {
      "text/plain": [
       "{1: 0, 2: 1, 3: 2}"
      ]
     },
     "execution_count": 69,
     "metadata": {},
     "output_type": "execute_result"
    }
   ],
   "source": [
    "accident_severity_name_2_index = {}\n",
    "for i, name in enumerate(accident_severity_names):\n",
    "    accident_severity_name_2_index[name] = i\n",
    "accident_severity_name_2_index"
   ]
  },
  {
   "cell_type": "code",
   "execution_count": 41,
   "metadata": {},
   "outputs": [],
   "source": [
    "day_of_week_names, day_of_week_vectors = turn_strings_into_vectors(data['Day_of_Week'])"
   ]
  },
  {
   "cell_type": "code",
   "execution_count": 70,
   "metadata": {},
   "outputs": [
    {
     "data": {
      "text/plain": [
       "{1: 0, 2: 1, 3: 2, 4: 3, 5: 4, 6: 5, 7: 6}"
      ]
     },
     "execution_count": 70,
     "metadata": {},
     "output_type": "execute_result"
    }
   ],
   "source": [
    "day_of_week_name_2_index = {}\n",
    "for i, name in enumerate(day_of_week_names):\n",
    "    day_of_week_name_2_index[name] = i\n",
    "day_of_week_name_2_index"
   ]
  },
  {
   "cell_type": "code",
   "execution_count": 53,
   "metadata": {},
   "outputs": [],
   "source": [
    "values = data.values.copy()"
   ]
  },
  {
   "cell_type": "code",
   "execution_count": 80,
   "metadata": {},
   "outputs": [
    {
     "data": {
      "text/plain": [
       "(array([[0., 1., 0.],\n",
       "        [0., 0., 1.],\n",
       "        [0., 0., 1.],\n",
       "        ...,\n",
       "        [0., 0., 1.],\n",
       "        [0., 0., 1.],\n",
       "        [0., 1., 0.]]), (570011, 3))"
      ]
     },
     "execution_count": 80,
     "metadata": {},
     "output_type": "execute_result"
    }
   ],
   "source": [
    "accident_severity_matrix = np.zeros((len(data['Accident_Severity']), len(accident_severity_names)))\n",
    "\n",
    "for i in range(len(data['Accident_Severity'])):\n",
    "    accident_severity_matrix[i] = accident_severity_vectors[accident_severity_name_2_index[data['Accident_Severity'][i]]]\n",
    "    \n",
    "accident_severity_matrix, accident_severity_matrix.shape"
   ]
  },
  {
   "cell_type": "code",
   "execution_count": 81,
   "metadata": {},
   "outputs": [
    {
     "data": {
      "text/plain": [
       "(array([[0., 0., 1., ..., 0., 0., 0.],\n",
       "        [0., 0., 0., ..., 0., 0., 0.],\n",
       "        [0., 0., 0., ..., 1., 0., 0.],\n",
       "        ...,\n",
       "        [1., 0., 0., ..., 0., 0., 0.],\n",
       "        [1., 0., 0., ..., 0., 0., 0.],\n",
       "        [0., 0., 0., ..., 0., 0., 1.]]), (570011, 7))"
      ]
     },
     "execution_count": 81,
     "metadata": {},
     "output_type": "execute_result"
    }
   ],
   "source": [
    "day_of_week_matrix = np.zeros((len(data['Day_of_Week']), len(day_of_week_names)))\n",
    "\n",
    "for i in range(len(data['Day_of_Week'])):\n",
    "    day_of_week_matrix[i] = day_of_week_vectors[day_of_week_name_2_index[data['Day_of_Week'][i]]]\n",
    "day_of_week_matrix, day_of_week_matrix.shape"
   ]
  },
  {
   "cell_type": "code",
   "execution_count": 89,
   "metadata": {},
   "outputs": [],
   "source": [
    "processed_data = np.column_stack((day_of_week_matrix, data['Speed_limit'].values.copy()))"
   ]
  },
  {
   "cell_type": "code",
   "execution_count": 91,
   "metadata": {},
   "outputs": [],
   "source": [
    "processed_labels = np.column_stack((accident_severity_matrix, data['Number_of_Vehicles'].values.copy()))"
   ]
  },
  {
   "cell_type": "code",
   "execution_count": 105,
   "metadata": {},
   "outputs": [
    {
     "data": {
      "text/plain": [
       "((570011, 8), (570011, 4))"
      ]
     },
     "execution_count": 105,
     "metadata": {},
     "output_type": "execute_result"
    }
   ],
   "source": [
    "processed_data.shape, processed_labels.shape"
   ]
  },
  {
   "cell_type": "code",
   "execution_count": 118,
   "metadata": {},
   "outputs": [],
   "source": [
    "amount = 100000\n",
    "training_data, training_labels = processed_data[:amount], processed_labels[:amount]\n",
    "test_data, test_labels = processed_data[amount:2*amount], processed_labels[amount:2*amount]"
   ]
  },
  {
   "cell_type": "code",
   "execution_count": 148,
   "metadata": {},
   "outputs": [
    {
     "name": "stdout",
     "output_type": "stream",
     "text": [
      "8 4\n",
      "Epoch 1/100\n",
      "10000/10000 [==============================] - 1s 125us/step - loss: 0.1743 - acc: 0.6771\n",
      "Epoch 2/100\n",
      "10000/10000 [==============================] - 0s 49us/step - loss: 0.1565 - acc: 0.6793\n",
      "Epoch 3/100\n",
      "10000/10000 [==============================] - 0s 46us/step - loss: 0.1523 - acc: 0.6793\n",
      "Epoch 4/100\n",
      "10000/10000 [==============================] - 0s 42us/step - loss: 0.1494 - acc: 0.6793\n",
      "Epoch 5/100\n",
      "10000/10000 [==============================] - 0s 47us/step - loss: 0.1491 - acc: 0.6793\n",
      "Epoch 6/100\n",
      "10000/10000 [==============================] - 1s 50us/step - loss: 0.1483 - acc: 0.6793\n",
      "Epoch 7/100\n",
      "10000/10000 [==============================] - 1s 50us/step - loss: 0.1472 - acc: 0.6793\n",
      "Epoch 8/100\n",
      "10000/10000 [==============================] - 0s 47us/step - loss: 0.1465 - acc: 0.6793\n",
      "Epoch 9/100\n",
      "10000/10000 [==============================] - 0s 46us/step - loss: 0.1465 - acc: 0.6793\n",
      "Epoch 10/100\n",
      "10000/10000 [==============================] - 0s 48us/step - loss: 0.1468 - acc: 0.6793\n",
      "Epoch 11/100\n",
      "10000/10000 [==============================] - 0s 44us/step - loss: 0.1469 - acc: 0.6793\n",
      "Epoch 12/100\n",
      "10000/10000 [==============================] - 0s 47us/step - loss: 0.1457 - acc: 0.6793\n",
      "Epoch 13/100\n",
      "10000/10000 [==============================] - 0s 42us/step - loss: 0.1456 - acc: 0.6793\n",
      "Epoch 14/100\n",
      "10000/10000 [==============================] - 0s 49us/step - loss: 0.1454 - acc: 0.6793\n",
      "Epoch 15/100\n",
      "10000/10000 [==============================] - 0s 47us/step - loss: 0.1457 - acc: 0.6793\n",
      "Epoch 16/100\n",
      "10000/10000 [==============================] - 0s 47us/step - loss: 0.1456 - acc: 0.6793\n",
      "Epoch 17/100\n",
      "10000/10000 [==============================] - 0s 42us/step - loss: 0.1455 - acc: 0.6793\n",
      "Epoch 18/100\n",
      "10000/10000 [==============================] - 0s 50us/step - loss: 0.1455 - acc: 0.6793\n",
      "Epoch 19/100\n",
      "10000/10000 [==============================] - 0s 44us/step - loss: 0.1450 - acc: 0.6793\n",
      "Epoch 20/100\n",
      "10000/10000 [==============================] - 1s 60us/step - loss: 0.1455 - acc: 0.6793\n",
      "Epoch 21/100\n",
      "10000/10000 [==============================] - 0s 44us/step - loss: 0.1452 - acc: 0.6793\n",
      "Epoch 22/100\n",
      "10000/10000 [==============================] - 0s 45us/step - loss: 0.1451 - acc: 0.6793\n",
      "Epoch 23/100\n",
      "10000/10000 [==============================] - 1s 51us/step - loss: 0.1452 - acc: 0.6793\n",
      "Epoch 24/100\n",
      "10000/10000 [==============================] - 0s 50us/step - loss: 0.1450 - acc: 0.6793\n",
      "Epoch 25/100\n",
      "10000/10000 [==============================] - 0s 44us/step - loss: 0.1452 - acc: 0.6793\n",
      "Epoch 26/100\n",
      "10000/10000 [==============================] - 0s 44us/step - loss: 0.1454 - acc: 0.6793\n",
      "Epoch 27/100\n",
      "10000/10000 [==============================] - 0s 43us/step - loss: 0.1451 - acc: 0.6793\n",
      "Epoch 28/100\n",
      "10000/10000 [==============================] - 0s 49us/step - loss: 0.1449 - acc: 0.6793\n",
      "Epoch 29/100\n",
      "10000/10000 [==============================] - 0s 46us/step - loss: 0.1450 - acc: 0.6793\n",
      "Epoch 30/100\n",
      "10000/10000 [==============================] - 0s 42us/step - loss: 0.1452 - acc: 0.6793\n",
      "Epoch 31/100\n",
      "10000/10000 [==============================] - 0s 49us/step - loss: 0.1449 - acc: 0.6793\n",
      "Epoch 32/100\n",
      "10000/10000 [==============================] - 1s 58us/step - loss: 0.1447 - acc: 0.6793\n",
      "Epoch 33/100\n",
      "10000/10000 [==============================] - 0s 47us/step - loss: 0.1449 - acc: 0.6793\n",
      "Epoch 34/100\n",
      "10000/10000 [==============================] - 0s 42us/step - loss: 0.1450 - acc: 0.6793\n",
      "Epoch 35/100\n",
      "10000/10000 [==============================] - 0s 49us/step - loss: 0.1449 - acc: 0.6793\n",
      "Epoch 36/100\n",
      "10000/10000 [==============================] - 0s 49us/step - loss: 0.1449 - acc: 0.6793\n",
      "Epoch 37/100\n",
      "10000/10000 [==============================] - 0s 48us/step - loss: 0.1448 - acc: 0.6793\n",
      "Epoch 38/100\n",
      "10000/10000 [==============================] - 0s 43us/step - loss: 0.1450 - acc: 0.6793\n",
      "Epoch 39/100\n",
      "10000/10000 [==============================] - 0s 44us/step - loss: 0.1449 - acc: 0.6793\n",
      "Epoch 40/100\n",
      "10000/10000 [==============================] - 0s 43us/step - loss: 0.1448 - acc: 0.6793\n",
      "Epoch 41/100\n",
      "10000/10000 [==============================] - 0s 47us/step - loss: 0.1447 - acc: 0.6793\n",
      "Epoch 42/100\n",
      "10000/10000 [==============================] - 0s 48us/step - loss: 0.1446 - acc: 0.6793\n",
      "Epoch 43/100\n",
      "10000/10000 [==============================] - 0s 44us/step - loss: 0.1447 - acc: 0.6793\n",
      "Epoch 44/100\n",
      "10000/10000 [==============================] - 0s 44us/step - loss: 0.1449 - acc: 0.6793\n",
      "Epoch 45/100\n",
      "10000/10000 [==============================] - 0s 44us/step - loss: 0.1450 - acc: 0.6793\n",
      "Epoch 46/100\n",
      "10000/10000 [==============================] - 1s 51us/step - loss: 0.1450 - acc: 0.6793\n",
      "Epoch 47/100\n",
      "10000/10000 [==============================] - 1s 63us/step - loss: 0.1448 - acc: 0.6793\n",
      "Epoch 48/100\n",
      "10000/10000 [==============================] - 1s 55us/step - loss: 0.1450 - acc: 0.6793\n",
      "Epoch 49/100\n",
      "10000/10000 [==============================] - 0s 46us/step - loss: 0.1449 - acc: 0.6793\n",
      "Epoch 50/100\n",
      "10000/10000 [==============================] - 0s 42us/step - loss: 0.1447 - acc: 0.6793\n",
      "Epoch 51/100\n",
      "10000/10000 [==============================] - 0s 41us/step - loss: 0.1448 - acc: 0.6793\n",
      "Epoch 52/100\n",
      "10000/10000 [==============================] - 1s 50us/step - loss: 0.1446 - acc: 0.6793\n",
      "Epoch 53/100\n",
      "10000/10000 [==============================] - 0s 43us/step - loss: 0.1447 - acc: 0.6793\n",
      "Epoch 54/100\n",
      "10000/10000 [==============================] - 0s 47us/step - loss: 0.1448 - acc: 0.6793\n",
      "Epoch 55/100\n",
      "10000/10000 [==============================] - 0s 43us/step - loss: 0.1446 - acc: 0.6793\n",
      "Epoch 56/100\n",
      "10000/10000 [==============================] - 0s 44us/step - loss: 0.1446 - acc: 0.6793\n",
      "Epoch 57/100\n",
      "10000/10000 [==============================] - 0s 44us/step - loss: 0.1448 - acc: 0.6793\n",
      "Epoch 58/100\n",
      "10000/10000 [==============================] - 1s 53us/step - loss: 0.1447 - acc: 0.6793\n",
      "Epoch 59/100\n",
      "10000/10000 [==============================] - 1s 61us/step - loss: 0.1445 - acc: 0.6793\n",
      "Epoch 60/100\n",
      "10000/10000 [==============================] - 0s 47us/step - loss: 0.1448 - acc: 0.6793\n",
      "Epoch 61/100\n",
      "10000/10000 [==============================] - 0s 48us/step - loss: 0.1446 - acc: 0.6793\n",
      "Epoch 62/100\n",
      "10000/10000 [==============================] - 0s 47us/step - loss: 0.1448 - acc: 0.6793\n",
      "Epoch 63/100\n",
      "10000/10000 [==============================] - 0s 43us/step - loss: 0.1447 - acc: 0.6793\n",
      "Epoch 64/100\n",
      "10000/10000 [==============================] - 0s 45us/step - loss: 0.1447 - acc: 0.6793\n",
      "Epoch 65/100\n",
      "10000/10000 [==============================] - 0s 46us/step - loss: 0.1449 - acc: 0.6793\n",
      "Epoch 66/100\n",
      "10000/10000 [==============================] - 0s 48us/step - loss: 0.1447 - acc: 0.6793\n",
      "Epoch 67/100\n",
      "10000/10000 [==============================] - 0s 48us/step - loss: 0.1447 - acc: 0.6793\n",
      "Epoch 68/100\n",
      "10000/10000 [==============================] - 0s 41us/step - loss: 0.1447 - acc: 0.6793\n",
      "Epoch 69/100\n",
      "10000/10000 [==============================] - 0s 49us/step - loss: 0.1447 - acc: 0.6793\n",
      "Epoch 70/100\n",
      "10000/10000 [==============================] - 0s 42us/step - loss: 0.1446 - acc: 0.6793\n",
      "Epoch 71/100\n",
      "10000/10000 [==============================] - 0s 45us/step - loss: 0.1446 - acc: 0.6793\n",
      "Epoch 72/100\n",
      "10000/10000 [==============================] - 0s 45us/step - loss: 0.1446 - acc: 0.6793\n",
      "Epoch 73/100\n",
      "10000/10000 [==============================] - 0s 47us/step - loss: 0.1447 - acc: 0.6793\n",
      "Epoch 74/100\n",
      "10000/10000 [==============================] - 0s 47us/step - loss: 0.1450 - acc: 0.6793\n",
      "Epoch 75/100\n",
      "10000/10000 [==============================] - 0s 48us/step - loss: 0.1449 - acc: 0.6793\n",
      "Epoch 76/100\n",
      "10000/10000 [==============================] - 0s 45us/step - loss: 0.1447 - acc: 0.6793\n",
      "Epoch 77/100\n",
      "10000/10000 [==============================] - 0s 45us/step - loss: 0.1447 - acc: 0.6793\n",
      "Epoch 78/100\n",
      "10000/10000 [==============================] - 0s 46us/step - loss: 0.1448 - acc: 0.6793\n",
      "Epoch 79/100\n",
      "10000/10000 [==============================] - 0s 42us/step - loss: 0.1445 - acc: 0.6793\n",
      "Epoch 80/100\n",
      "10000/10000 [==============================] - 0s 46us/step - loss: 0.1448 - acc: 0.6793\n",
      "Epoch 81/100\n"
     ]
    },
    {
     "name": "stdout",
     "output_type": "stream",
     "text": [
      "10000/10000 [==============================] - 0s 43us/step - loss: 0.1446 - acc: 0.6793\n",
      "Epoch 82/100\n",
      "10000/10000 [==============================] - 0s 44us/step - loss: 0.1445 - acc: 0.6793\n",
      "Epoch 83/100\n",
      "10000/10000 [==============================] - 0s 43us/step - loss: 0.1446 - acc: 0.6793\n",
      "Epoch 84/100\n",
      "10000/10000 [==============================] - 1s 59us/step - loss: 0.1447 - acc: 0.6793\n",
      "Epoch 85/100\n",
      "10000/10000 [==============================] - 1s 53us/step - loss: 0.1446 - acc: 0.6793\n",
      "Epoch 86/100\n",
      "10000/10000 [==============================] - 1s 51us/step - loss: 0.1446 - acc: 0.6793\n",
      "Epoch 87/100\n",
      "10000/10000 [==============================] - 0s 45us/step - loss: 0.1446 - acc: 0.6793\n",
      "Epoch 88/100\n",
      "10000/10000 [==============================] - 0s 48us/step - loss: 0.1446 - acc: 0.6793\n",
      "Epoch 89/100\n",
      "10000/10000 [==============================] - 1s 51us/step - loss: 0.1446 - acc: 0.6793\n",
      "Epoch 90/100\n",
      "10000/10000 [==============================] - 0s 48us/step - loss: 0.1445 - acc: 0.6793\n",
      "Epoch 91/100\n",
      "10000/10000 [==============================] - 1s 70us/step - loss: 0.1446 - acc: 0.6793\n",
      "Epoch 92/100\n",
      "10000/10000 [==============================] - 1s 56us/step - loss: 0.1446 - acc: 0.6793\n",
      "Epoch 93/100\n",
      "10000/10000 [==============================] - 1s 60us/step - loss: 0.1445 - acc: 0.6793\n",
      "Epoch 94/100\n",
      "10000/10000 [==============================] - 1s 50us/step - loss: 0.1446 - acc: 0.6793\n",
      "Epoch 95/100\n",
      "10000/10000 [==============================] - 0s 48us/step - loss: 0.1445 - acc: 0.6793\n",
      "Epoch 96/100\n",
      "10000/10000 [==============================] - 1s 50us/step - loss: 0.1445 - acc: 0.6793\n",
      "Epoch 97/100\n",
      "10000/10000 [==============================] - 0s 46us/step - loss: 0.1445 - acc: 0.6793\n",
      "Epoch 98/100\n",
      "10000/10000 [==============================] - 1s 51us/step - loss: 0.1446 - acc: 0.6793\n",
      "Epoch 99/100\n",
      "10000/10000 [==============================] - 0s 47us/step - loss: 0.1445 - acc: 0.6793\n",
      "Epoch 100/100\n",
      "10000/10000 [==============================] - 0s 49us/step - loss: 0.1446 - acc: 0.6793\n",
      "10000/10000 [==============================] - 1s 63us/step\n"
     ]
    }
   ],
   "source": [
    "model, test_loss, test_accuracy = run_nn(\n",
    "    training_data=training_data.astype(np.float32),\n",
    "    training_labels=training_labels.astype(np.float32),\n",
    "    test_data=test_data.astype(np.float32),\n",
    "    test_labels=test_labels.astype(np.float32), epochs=100)"
   ]
  },
  {
   "cell_type": "code",
   "execution_count": 149,
   "metadata": {},
   "outputs": [
    {
     "name": "stdout",
     "output_type": "stream",
     "text": [
      "8 4\n",
      "10000/10000 [==============================] - 1s 111us/step\n"
     ]
    }
   ],
   "source": [
    "predictions = run_nn(\n",
    "    training_data=training_data.astype(np.float32),\n",
    "    training_labels=training_labels.astype(np.float32),\n",
    "    test_data=test_data.astype(np.float32),\n",
    "    test_labels=test_labels.astype(np.float32), prediction_set=processed_data[-1:], epochs=0)"
   ]
  },
  {
   "cell_type": "code",
   "execution_count": 150,
   "metadata": {},
   "outputs": [
    {
     "data": {
      "text/plain": [
       "array([[2.2293    , 2.7296057 , 0.03645724, 2.422695  ]], dtype=float32)"
      ]
     },
     "execution_count": 150,
     "metadata": {},
     "output_type": "execute_result"
    }
   ],
   "source": [
    "predictions"
   ]
  },
  {
   "cell_type": "code",
   "execution_count": 151,
   "metadata": {},
   "outputs": [
    {
     "data": {
      "text/plain": [
       "array([0., 1., 0., 2.])"
      ]
     },
     "execution_count": 151,
     "metadata": {},
     "output_type": "execute_result"
    }
   ],
   "source": [
    "processed_labels[-1]"
   ]
  },
  {
   "cell_type": "code",
   "execution_count": 152,
   "metadata": {},
   "outputs": [
    {
     "data": {
      "text/plain": [
       "(0.18415261824131013, 0.6973)"
      ]
     },
     "execution_count": 152,
     "metadata": {},
     "output_type": "execute_result"
    }
   ],
   "source": [
    "test_loss, test_accuracy"
   ]
  },
  {
   "cell_type": "code",
   "execution_count": null,
   "metadata": {},
   "outputs": [],
   "source": []
  },
  {
   "cell_type": "code",
   "execution_count": 95,
   "metadata": {},
   "outputs": [
    {
     "data": {
      "text/plain": [
       "dtype('float64')"
      ]
     },
     "execution_count": 95,
     "metadata": {},
     "output_type": "execute_result"
    }
   ],
   "source": [
    "accident_severity_matrix.dtype"
   ]
  },
  {
   "cell_type": "code",
   "execution_count": 147,
   "metadata": {},
   "outputs": [],
   "source": [
    "import tensorflow as tf\n",
    "from tensorflow import keras\n",
    "\n",
    "\n",
    "def run_nn(training_data, training_labels, test_data, test_labels, prediction_set=None, epochs=10):\n",
    "\n",
    "    input_count = training_data.shape[1]\n",
    "    output_count = training_labels.shape[1]\n",
    "    print(input_count, output_count)\n",
    "\n",
    "    with tf.Session() as session:\n",
    "        model = keras.Sequential([\n",
    "            keras.layers.Dense(input_count),\n",
    "            keras.layers.Dense(256, activation=tf.nn.relu),\n",
    "            keras.layers.Dense(128, activation=tf.nn.relu),\n",
    "            keras.layers.Dense(64, activation=tf.nn.relu),\n",
    "            keras.layers.Dense(output_count, activation=None)\n",
    "        ])\n",
    "\n",
    "        model.compile(\n",
    "            optimizer=tf.train.AdamOptimizer(), loss='mean_squared_error', metrics=['accuracy'])\n",
    "\n",
    "        model.fit(training_data, training_labels, epochs=epochs)\n",
    "\n",
    "        test_loss, test_accuracy = model.evaluate(test_data, test_labels)\n",
    "        \n",
    "        if prediction_set is not None:\n",
    "            return model.predict(prediction_set)\n",
    "            \n",
    "\n",
    "        return model, test_loss, test_accuracy"
   ]
  }
 ],
 "metadata": {
  "kernelspec": {
   "display_name": "Python 3",
   "language": "python",
   "name": "python3"
  },
  "language_info": {
   "codemirror_mode": {
    "name": "ipython",
    "version": 3
   },
   "file_extension": ".py",
   "mimetype": "text/x-python",
   "name": "python",
   "nbconvert_exporter": "python",
   "pygments_lexer": "ipython3",
   "version": "3.6.6"
  }
 },
 "nbformat": 4,
 "nbformat_minor": 2
}
